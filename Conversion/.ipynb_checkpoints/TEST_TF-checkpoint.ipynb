{
 "cells": [
  {
   "cell_type": "code",
   "execution_count": 4,
   "metadata": {
    "collapsed": false
   },
   "outputs": [],
   "source": [
    "import matplotlib\n",
    "matplotlib.use('Agg')\n",
    "\n",
    "bagfile = \"other_2016-05-25-10-58-55.bag\""
   ]
  },
  {
   "cell_type": "code",
   "execution_count": null,
   "metadata": {
    "collapsed": false,
    "scrolled": true
   },
   "outputs": [
    {
     "name": "stdout",
     "output_type": "stream",
     "text": [
      "reading only 1 bagfile: other_2016-05-23-15-32-43.bag\n",
      "reading file 1 of  1: other_2016-05-23-15-32-43.bag\n"
     ]
    }
   ],
   "source": [
    "%run bag2csv.py $bagfile"
   ]
  },
  {
   "cell_type": "code",
   "execution_count": 2,
   "metadata": {
    "collapsed": false,
    "scrolled": false
   },
   "outputs": [
    {
     "ename": "NameError",
     "evalue": "name 'bagfile' is not defined",
     "output_type": "error",
     "traceback": [
      "\u001b[1;31m---------------------------------------------------------------------------\u001b[0m",
      "\u001b[1;31mNameError\u001b[0m                                 Traceback (most recent call last)",
      "\u001b[1;32m<ipython-input-2-209faecf033c>\u001b[0m in \u001b[0;36m<module>\u001b[1;34m()\u001b[0m\n\u001b[0;32m      6\u001b[0m \u001b[1;32mfrom\u001b[0m \u001b[0mdatetime\u001b[0m \u001b[1;32mimport\u001b[0m \u001b[0mdatetime\u001b[0m\u001b[1;33m\u001b[0m\u001b[0m\n\u001b[0;32m      7\u001b[0m \u001b[1;33m\u001b[0m\u001b[0m\n\u001b[1;32m----> 8\u001b[1;33m rosbagTimestamp,transforms,header,seq,stamp,secs,nsecs,frame_id,child_frame_id,transform,translation,tx,ty,tz,rotation,rx,ry,rz,rw = np.genfromtxt(bagfile[:-4] + \"/_slash_tf.csv\", delimiter=',', skip_header=1,\n\u001b[0m\u001b[0;32m      9\u001b[0m                      skip_footer=0,dtype=float,unpack=True)\n",
      "\u001b[1;31mNameError\u001b[0m: name 'bagfile' is not defined"
     ]
    }
   ],
   "source": [
    "%matplotlib inline\n",
    "import matplotlib.pyplot as plt\n",
    "import matplotlib.pylab as pylab\n",
    "pylab.rcParams['figure.figsize'] = 15, 8  # that's default image size for this interactive session\n",
    "import numpy as np\n",
    "from datetime import datetime\n",
    "\n",
    "rosbagTimestamp,transforms,header,seq,stamp,secs,nsecs,frame_id,child_frame_id,transform,translation,tx,ty,tz,rotation,rx,ry,rz,rw = np.genfromtxt(bagfile[:-4] + \"/_slash_tf.csv\", delimiter=',', skip_header=1,\n",
    "                     skip_footer=0,dtype=float,unpack=True)"
   ]
  },
  {
   "cell_type": "code",
   "execution_count": null,
   "metadata": {
    "collapsed": false,
    "scrolled": false
   },
   "outputs": [],
   "source": [
    "plt.plot(tx,ty, 'ro')\n",
    "plt.show()"
   ]
  }
 ],
 "metadata": {
  "kernelspec": {
   "display_name": "Python 2",
   "language": "python",
   "name": "python2"
  },
  "language_info": {
   "codemirror_mode": {
    "name": "ipython",
    "version": 2
   },
   "file_extension": ".py",
   "mimetype": "text/x-python",
   "name": "python",
   "nbconvert_exporter": "python",
   "pygments_lexer": "ipython2",
   "version": "2.7.6"
  }
 },
 "nbformat": 4,
 "nbformat_minor": 0
}
