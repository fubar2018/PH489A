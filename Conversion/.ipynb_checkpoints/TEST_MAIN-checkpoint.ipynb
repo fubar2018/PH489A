{
 "cells": [
  {
   "cell_type": "code",
   "execution_count": 89,
   "metadata": {
    "collapsed": false,
    "scrolled": true
   },
   "outputs": [
    {
     "name": "stdout",
     "output_type": "stream",
     "text": [
      "Setup Finished\n"
     ]
    }
   ],
   "source": [
    "#Primary Jupyter python script for analysis of BAG file data from IGVC runs. Made by 2LT John Oberholtzer\n",
    "#Updated 03JUN2016\n",
    "\n",
    "#Checklist for operation:\n",
    "#1. Change \"Suffix\" to appropriate ending from runs.\n",
    "#2. Change the booleans on the FLAG list below to correspond with which BAG files are available. Adjust as necessary.\n",
    "#3. Comment or otherwise disable any tests you do not wish to run in their corresponding cells.\n",
    "#4. Click Cells>Run All to execute\n",
    "\n",
    "#This file will require updating if rostopics are moved from one bag file to another as the references are hardcoded.\n",
    "import matplotlib\n",
    "import csv\n",
    "import sys\n",
    "import ast\n",
    "import os\n",
    "import numpy as np\n",
    "import matplotlib.pyplot as plt\n",
    "import matplotlib.pylab as pylab\n",
    "from datetime import datetime\n",
    "from struct import *\n",
    "from mpl_toolkits.mplot3d import Axes3D\n",
    "from LatLongUTMconversion import LLtoUTM\n",
    "csv.field_size_limit(sys.maxsize)\n",
    "matplotlib.use('Agg')\n",
    "%matplotlib nbagg\n",
    "pylab.rcParams['figure.figsize'] = 15, 8  # that's default image size for this interactive session\n",
    "\n",
    "#Every BAG file should have this suffix. Example: other_2016-05-26-10-34-51.bag\n",
    "#If some are off by one number, rename them to fit the format.\n",
    "suffix = \"_2016-06-06-09-21-24\"\n",
    "\n",
    "#The folder the BAG files are in should be named as RUN + the suffix. Example: RUN_2016-05-26-10-34-51\n",
    "#bagfolder = \"RUN\" + suffix + \"/\"\n",
    "bagfolder = \"Data/\"\n",
    "\n",
    "bagfile_other = \"other\"+ suffix + \".bag\"\n",
    "bagfile_camera = \"camera\"+ suffix + \".bag\"\n",
    "bagfile_pointcloud = \"pointcloud\"+ suffix + \".bag\"\n",
    "\n",
    "#Following Booleans are for whether or not certain BAG files are present. Hardcoding the booleans here\n",
    "#will save time by not running the .bag to .csv conversion on the selected files.\n",
    "FLAG_other = True\n",
    "FLAG_camera = False\n",
    "FLAG_pointcloud = False\n",
    "\n",
    "print(\"Setup Finished\")"
   ]
  },
  {
   "cell_type": "code",
   "execution_count": 90,
   "metadata": {
    "collapsed": false,
    "scrolled": true
   },
   "outputs": [
    {
     "name": "stdout",
     "output_type": "stream",
     "text": [
      "File not found: camera_2016-06-04-21-55-18.bag\n",
      "File not found: pointcloud_2016-06-04-21-55-18.bag\n",
      "reading only 1 bagfile: other_2016-06-04-21-55-18.bag\n",
      "reading file 1 of  1: other_2016-06-04-21-55-18.bag\n"
     ]
    },
    {
     "ename": "ROSBagUnindexedException",
     "evalue": "Unindexed bag",
     "output_type": "error",
     "traceback": [
      "\u001b[1;31m---------------------------------------------------------------------------\u001b[0m",
      "\u001b[1;31mROSBagUnindexedException\u001b[0m                  Traceback (most recent call last)",
      "\u001b[1;32m/home/user1/Projects/jupyter/bag2csv_v2.py\u001b[0m in \u001b[0;36m<module>\u001b[1;34m()\u001b[0m\n\u001b[0;32m     59\u001b[0m         \u001b[1;31m#access bag\u001b[0m\u001b[1;33m\u001b[0m\u001b[1;33m\u001b[0m\u001b[0m\n\u001b[0;32m     60\u001b[0m         \u001b[1;32mif\u001b[0m \u001b[1;33m(\u001b[0m\u001b[0mlen\u001b[0m\u001b[1;33m(\u001b[0m\u001b[0msys\u001b[0m\u001b[1;33m.\u001b[0m\u001b[0margv\u001b[0m\u001b[1;33m)\u001b[0m \u001b[1;33m>=\u001b[0m \u001b[1;36m2\u001b[0m\u001b[1;33m)\u001b[0m\u001b[1;33m:\u001b[0m\u001b[1;33m\u001b[0m\u001b[0m\n\u001b[1;32m---> 61\u001b[1;33m                 \u001b[0mbag\u001b[0m \u001b[1;33m=\u001b[0m \u001b[0mrosbag\u001b[0m\u001b[1;33m.\u001b[0m\u001b[0mBag\u001b[0m\u001b[1;33m(\u001b[0m\u001b[1;34m\"./\"\u001b[0m\u001b[1;33m+\u001b[0m\u001b[0mfolderOfBagFiles\u001b[0m \u001b[1;33m+\u001b[0m \u001b[0mbagFile\u001b[0m\u001b[1;33m)\u001b[0m\u001b[1;33m\u001b[0m\u001b[0m\n\u001b[0m\u001b[0;32m     62\u001b[0m                 \u001b[1;31m#bag = rosbag.Bag(bagFile)\u001b[0m\u001b[1;33m\u001b[0m\u001b[1;33m\u001b[0m\u001b[0m\n\u001b[0;32m     63\u001b[0m                 \u001b[0mbagContents\u001b[0m \u001b[1;33m=\u001b[0m \u001b[0mbag\u001b[0m\u001b[1;33m.\u001b[0m\u001b[0mread_messages\u001b[0m\u001b[1;33m(\u001b[0m\u001b[1;33m)\u001b[0m\u001b[1;33m\u001b[0m\u001b[0m\n",
      "\u001b[1;32m/opt/ros/indigo/lib/python2.7/dist-packages/rosbag/bag.pyc\u001b[0m in \u001b[0;36m__init__\u001b[1;34m(self, f, mode, compression, chunk_threshold, allow_unindexed, options, skip_index)\u001b[0m\n\u001b[0;32m    171\u001b[0m         \u001b[0mself\u001b[0m\u001b[1;33m.\u001b[0m\u001b[0m_curr_compression\u001b[0m \u001b[1;33m=\u001b[0m \u001b[0mCompression\u001b[0m\u001b[1;33m.\u001b[0m\u001b[0mNONE\u001b[0m\u001b[1;33m\u001b[0m\u001b[0m\n\u001b[0;32m    172\u001b[0m \u001b[1;33m\u001b[0m\u001b[0m\n\u001b[1;32m--> 173\u001b[1;33m         \u001b[0mself\u001b[0m\u001b[1;33m.\u001b[0m\u001b[0m_open\u001b[0m\u001b[1;33m(\u001b[0m\u001b[0mf\u001b[0m\u001b[1;33m,\u001b[0m \u001b[0mmode\u001b[0m\u001b[1;33m,\u001b[0m \u001b[0mallow_unindexed\u001b[0m\u001b[1;33m)\u001b[0m\u001b[1;33m\u001b[0m\u001b[0m\n\u001b[0m\u001b[0;32m    174\u001b[0m \u001b[1;33m\u001b[0m\u001b[0m\n\u001b[0;32m    175\u001b[0m         \u001b[0mself\u001b[0m\u001b[1;33m.\u001b[0m\u001b[0m_output_file\u001b[0m \u001b[1;33m=\u001b[0m \u001b[0mself\u001b[0m\u001b[1;33m.\u001b[0m\u001b[0m_file\u001b[0m\u001b[1;33m\u001b[0m\u001b[0m\n",
      "\u001b[1;32m/opt/ros/indigo/lib/python2.7/dist-packages/rosbag/bag.pyc\u001b[0m in \u001b[0;36m_open\u001b[1;34m(self, f, mode, allow_unindexed)\u001b[0m\n\u001b[0;32m   1094\u001b[0m \u001b[1;33m\u001b[0m\u001b[0m\n\u001b[0;32m   1095\u001b[0m         \u001b[1;32mtry\u001b[0m\u001b[1;33m:\u001b[0m\u001b[1;33m\u001b[0m\u001b[0m\n\u001b[1;32m-> 1096\u001b[1;33m             \u001b[1;32mif\u001b[0m   \u001b[0mmode\u001b[0m \u001b[1;33m==\u001b[0m \u001b[1;34m'r'\u001b[0m\u001b[1;33m:\u001b[0m \u001b[0mself\u001b[0m\u001b[1;33m.\u001b[0m\u001b[0m_open_read\u001b[0m\u001b[1;33m(\u001b[0m\u001b[0mf\u001b[0m\u001b[1;33m,\u001b[0m \u001b[0mallow_unindexed\u001b[0m\u001b[1;33m)\u001b[0m\u001b[1;33m\u001b[0m\u001b[0m\n\u001b[0m\u001b[0;32m   1097\u001b[0m             \u001b[1;32melif\u001b[0m \u001b[0mmode\u001b[0m \u001b[1;33m==\u001b[0m \u001b[1;34m'w'\u001b[0m\u001b[1;33m:\u001b[0m \u001b[0mself\u001b[0m\u001b[1;33m.\u001b[0m\u001b[0m_open_write\u001b[0m\u001b[1;33m(\u001b[0m\u001b[0mf\u001b[0m\u001b[1;33m)\u001b[0m\u001b[1;33m\u001b[0m\u001b[0m\n\u001b[0;32m   1098\u001b[0m             \u001b[1;32melif\u001b[0m \u001b[0mmode\u001b[0m \u001b[1;33m==\u001b[0m \u001b[1;34m'a'\u001b[0m\u001b[1;33m:\u001b[0m \u001b[0mself\u001b[0m\u001b[1;33m.\u001b[0m\u001b[0m_open_append\u001b[0m\u001b[1;33m(\u001b[0m\u001b[0mf\u001b[0m\u001b[1;33m,\u001b[0m \u001b[0mallow_unindexed\u001b[0m\u001b[1;33m)\u001b[0m\u001b[1;33m\u001b[0m\u001b[0m\n",
      "\u001b[1;32m/opt/ros/indigo/lib/python2.7/dist-packages/rosbag/bag.pyc\u001b[0m in \u001b[0;36m_open_read\u001b[1;34m(self, f, allow_unindexed)\u001b[0m\n\u001b[0;32m   1130\u001b[0m         \u001b[1;32mtry\u001b[0m\u001b[1;33m:\u001b[0m\u001b[1;33m\u001b[0m\u001b[0m\n\u001b[0;32m   1131\u001b[0m             \u001b[0mself\u001b[0m\u001b[1;33m.\u001b[0m\u001b[0m_create_reader\u001b[0m\u001b[1;33m(\u001b[0m\u001b[1;33m)\u001b[0m\u001b[1;33m\u001b[0m\u001b[0m\n\u001b[1;32m-> 1132\u001b[1;33m             \u001b[0mself\u001b[0m\u001b[1;33m.\u001b[0m\u001b[0m_reader\u001b[0m\u001b[1;33m.\u001b[0m\u001b[0mstart_reading\u001b[0m\u001b[1;33m(\u001b[0m\u001b[1;33m)\u001b[0m\u001b[1;33m\u001b[0m\u001b[0m\n\u001b[0m\u001b[0;32m   1133\u001b[0m         \u001b[1;32mexcept\u001b[0m \u001b[0mROSBagUnindexedException\u001b[0m \u001b[1;32mas\u001b[0m \u001b[0mex\u001b[0m\u001b[1;33m:\u001b[0m\u001b[1;33m\u001b[0m\u001b[0m\n\u001b[0;32m   1134\u001b[0m             \u001b[1;32mif\u001b[0m \u001b[1;32mnot\u001b[0m \u001b[0mallow_unindexed\u001b[0m\u001b[1;33m:\u001b[0m\u001b[1;33m\u001b[0m\u001b[0m\n",
      "\u001b[1;32m/opt/ros/indigo/lib/python2.7/dist-packages/rosbag/bag.pyc\u001b[0m in \u001b[0;36mstart_reading\u001b[1;34m(self)\u001b[0m\n\u001b[0;32m   2304\u001b[0m \u001b[1;33m\u001b[0m\u001b[0m\n\u001b[0;32m   2305\u001b[0m         \u001b[1;32mexcept\u001b[0m \u001b[0mException\u001b[0m \u001b[1;32mas\u001b[0m \u001b[0mex\u001b[0m\u001b[1;33m:\u001b[0m\u001b[1;33m\u001b[0m\u001b[0m\n\u001b[1;32m-> 2306\u001b[1;33m             \u001b[1;32mraise\u001b[0m \u001b[0mROSBagUnindexedException\u001b[0m\u001b[1;33m(\u001b[0m\u001b[1;33m)\u001b[0m\u001b[1;33m\u001b[0m\u001b[0m\n\u001b[0m\u001b[0;32m   2307\u001b[0m \u001b[1;33m\u001b[0m\u001b[0m\n\u001b[0;32m   2308\u001b[0m     \u001b[1;32mdef\u001b[0m \u001b[0m_read_connection_index_records\u001b[0m\u001b[1;33m(\u001b[0m\u001b[0mself\u001b[0m\u001b[1;33m)\u001b[0m\u001b[1;33m:\u001b[0m\u001b[1;33m\u001b[0m\u001b[0m\n",
      "\u001b[1;31mROSBagUnindexedException\u001b[0m: Unindexed bag"
     ]
    },
    {
     "name": "stdout",
     "output_type": "stream",
     "text": [
      "Other: True\n",
      "Camera: False\n",
      "Pointcloud: False\n"
     ]
    }
   ],
   "source": [
    "#CONVERSION FROM .BAG to .CSV, attempts to check each bagfile accordingly.\n",
    "#If aware that .BAG files are not present, you can optionally manually uncheck the flags from the above cell,\n",
    "#although the code will automatically check and set the flags to False where .BAG files are not present.\n",
    "\n",
    "\n",
    "if (os.path.isfile(bagfolder+bagfile_other) == False):\n",
    "    FLAG_other = False\n",
    "    print(\"File not found: other\" + suffix + \".bag\")\n",
    "    print(\"Looking for: \" + bagfolder+bagfile_other)\n",
    "    \n",
    "if (os.path.isfile(bagfolder+bagfile_camera) == False):\n",
    "    FLAG_camera = False\n",
    "    print(\"File not found: camera\" + suffix + \".bag\")\n",
    "    \n",
    "if (os.path.isfile(bagfolder+bagfile_pointcloud) == False):\n",
    "    FLAG_pointcloud = False\n",
    "    print(\"File not found: pointcloud\" + suffix + \".bag\")\n",
    "\n",
    "if FLAG_other == True:\n",
    "    try:\n",
    "        %run bag2csv_v2.py $bagfolder $bagfile_other\n",
    "    except Exception:\n",
    "        FLAG_other = False\n",
    "        pass\n",
    "        \n",
    "if FLAG_camera == True:\n",
    "    try:\n",
    "        %run bag2csv_v2.py $bagfolder $bagfile_camera\n",
    "    except Exception:\n",
    "        FLAG_imudata = False\n",
    "        pass\n",
    "    \n",
    "if FLAG_pointcloud == True:\n",
    "    try:\n",
    "       %run bag2csv_v2.py $bagfolder $bagfile_pointcloud\n",
    "    except Exception:\n",
    "        FLAG_pointcloud = False\n",
    "        pass\n",
    "    \n",
    "\n",
    "print(\"Other: \" + str(FLAG_other))\n",
    "print(\"Camera: \" + str(FLAG_camera))\n",
    "print(\"Pointcloud: \" + str(FLAG_pointcloud))\n",
    "\n"
   ]
  },
  {
   "cell_type": "code",
   "execution_count": null,
   "metadata": {
    "collapsed": true,
    "scrolled": true
   },
   "outputs": [],
   "source": [
    "#White Line Processing (RUN IF USING ANALYSIS)\n",
    "\n",
    "#DISABLED\n",
    "#if FLAG_other == True:\n",
    "if False:\n",
    "    linescsvarray = []\n",
    "    with open(bagfolder + bagfile_other[:-4] + \"/_slash_vision3D_slash_lines.csv\",'rb') as csvfile:\n",
    "        reader = csv.reader(csvfile)\n",
    "        for row in reader:\n",
    "            linescsvarray.append(row)\n",
    "    linescolumnnames = linescsvarray.pop(0)        \n",
    "        \n",
    "    linesdataarray = []\n",
    "    for row in linescsvarray:\n",
    "        linesdataarray.append(ast.literal_eval(row[29]))\n",
    "\n",
    "    rawlinespoints = linesdataarray[0]\n",
    "    linespoints = [rawlinespoints[x:x+32] for x in range(0, len(rawlinespoints),32)]\n",
    "    \n",
    "    lineslist_x = []\n",
    "    lineslist_y = []\n",
    "    lineslist_z = []\n",
    "\n",
    "    for lines_increment in range(0,len(linespoints)):\n",
    "        lines_transition = str(bytearray(linespoints[lines_increment]))\n",
    "        lines_values = unpack('ffffffff',lines_transition)\n",
    "        lineslist_x.append(lines_values[0])\n",
    "        lineslist_y.append(lines_values[1])\n",
    "        lineslist_z.append(lines_values[2])"
   ]
  },
  {
   "cell_type": "code",
   "execution_count": null,
   "metadata": {
    "collapsed": true,
    "scrolled": true
   },
   "outputs": [],
   "source": [
    "#Red3D Processing (RUN IF USING ANALYSIS)\n",
    "\n",
    "#DISABLED\n",
    "#if FLAG_other == True:\n",
    "if False:\n",
    "    redcsvarray = []\n",
    "    with open(bagfolder + bagfile_other[:-4] + \"/_slash_vision3D_slash_red.csv\",'rb') as csvfile:\n",
    "        reader = csv.reader(csvfile)\n",
    "        for row in reader:\n",
    "            redcsvarray.append(row)\n",
    "    redcolumnnames = redcsvarray.pop(0)        \n",
    "        \n",
    "    reddataarray = []\n",
    "    for row in redcsvarray:\n",
    "        reddataarray.append(ast.literal_eval(row[29]))\n",
    "\n",
    "    rawredpoints = reddataarray[0]\n",
    "    redpoints = [rawredpoints[x:x+32] for x in range(0, len(rawredpoints),32)]\n",
    "    \n",
    "    redlist_x = []\n",
    "    redlist_y = []\n",
    "    redlist_z = []\n",
    "\n",
    "    for red_increment in range(0,len(redpoints)):\n",
    "        red_transition = str(bytearray(redpoints[red_increment]))\n",
    "        red_values = unpack('ffffffff',red_transition)\n",
    "        redlist_x.append(lines_values[0])\n",
    "        redlist_y.append(lines_values[1])\n",
    "        redlist_z.append(lines_values[2])"
   ]
  },
  {
   "cell_type": "code",
   "execution_count": null,
   "metadata": {
    "collapsed": true,
    "scrolled": true
   },
   "outputs": [],
   "source": [
    "#Blue3D Processing (RUN IF USING ANALYSIS)\n",
    "\n",
    "#DISABLED\n",
    "#if FLAG_other == True:\n",
    "if False:\n",
    "    bluecsvarray = []\n",
    "    with open(bagfolder + bagfile_other[:-4] + \"/_slash_vision3D_slash_blue.csv\",'rb') as csvfile:\n",
    "        reader = csv.reader(csvfile)\n",
    "        for row in reader:\n",
    "            bluecsvarray.append(row)\n",
    "    bluecolumnnames = bluecsvarray.pop(0)        \n",
    "        \n",
    "    bluedataarray = []\n",
    "    for row in bluecsvarray:\n",
    "        bluedataarray.append(ast.literal_eval(row[29]))\n",
    "\n",
    "    rawbluepoints = bluedataarray[0]\n",
    "    bluepoints = [rawbluepoints[x:x+32] for x in range(0, len(rawbluepoints),32)]\n",
    "    \n",
    "    bluelist_x = []\n",
    "    bluelist_y = []\n",
    "    bluelist_z = []\n",
    "\n",
    "    for blue_increment in range(0,len(bluepoints)):\n",
    "        blue_transition = str(bytearray(bluepoints[blue_increment]))\n",
    "        blue_values = unpack('ffffffff',blue_transition)\n",
    "        bluelist_x.append(lines_values[0])\n",
    "        bluelist_y.append(lines_values[1])\n",
    "        bluelist_z.append(lines_values[2])"
   ]
  },
  {
   "cell_type": "code",
   "execution_count": null,
   "metadata": {
    "collapsed": false,
    "scrolled": true
   },
   "outputs": [],
   "source": [
    "#GPS AND TF PROCESSING (RUN IF USING ANALYSIS)\n",
    "if FLAG_other == True:\n",
    "    TFcsvarray = []\n",
    "    with open(bagfolder + bagfile_other[:-4] + \"/_slash_tf.csv\",'rb') as csvfile:\n",
    "        reader = csv.reader(csvfile)\n",
    "        for row in reader:\n",
    "            TFcsvarray.append(row)\n",
    "    TFcolumnnames = TFcsvarray.pop(0)\n",
    "    TFdataex = TFcsvarray[0]\n",
    "    tx= []\n",
    "    ty= []\n",
    "    tz= []\n",
    "    for row in TFcsvarray:\n",
    "        tx.append(row[11])\n",
    "        ty.append(row[12])\n",
    "        tz.append(row[13])\n",
    "        \n",
    "    print TFcolumnnames\n",
    "    print \"\\n\"\n",
    "    print TFdataex\n",
    "    print \"\\n\"\n",
    "    print \"\\n\"\n",
    "    print \"\\n\"\n",
    "    \n",
    "if FLAG_other == True:\n",
    "    GPScsvarray = []\n",
    "    with open(bagfolder + bagfile_other[:-4] + \"/_slash_gps_slash_fix.csv\",'rb') as csvfile:\n",
    "        reader = csv.reader(csvfile)\n",
    "        for row in reader:\n",
    "            GPScsvarray.append(row)\n",
    "    GPScolumnnames = GPScsvarray.pop(0)\n",
    "    GPSdataex = GPScsvarray[0]\n",
    "    \n",
    "    print GPScolumnnames\n",
    "    print \"\\n\"\n",
    "    print GPSdataex\n",
    "    \n",
    "    (initZone,iE,iN)=LLtoUTM(23, float(GPSdataex[10]),float(GPSdataex[11]))\n",
    "    print GPSdataex[10]\n",
    "    print GPSdataex[11]\n",
    "    print iE\n",
    "    print iN\n",
    "    \n",
    "    lat= []\n",
    "    lon= []\n",
    "    alt= []\n",
    "    eastingList = []\n",
    "    northingList = []\n",
    "    TeastingList = []\n",
    "    TnorthingList = []\n",
    "    for row in GPScsvarray:\n",
    "        lat.append(row[10])\n",
    "        lon.append(row[11])\n",
    "        alt.append(row[12])\n",
    "        \n",
    "        (initZone,initEasting,initNorthing)=LLtoUTM(23, float(row[10]),float(row[11]))\n",
    "        eastingList.append(initEasting)\n",
    "        northingList.append(initNorthing)\n",
    "        \n",
    "        TrueEasting = (initEasting - 320191.284048)\n",
    "        TrueNorthing = (initNorthing - 4727391.526)\n",
    "        TeastingList.append(TrueEasting)\n",
    "        TnorthingList.append(TrueNorthing)\n",
    "\n",
    "    print \"test\"\n",
    "    (zZ,zE,zN)=LLtoUTM(23, 42.677989,-83.1945959)\n",
    "    print \"\\n\"\n",
    "    print zE\n",
    "    print zN\n",
    "    print \"endtest\"\n",
    "    \n",
    "\n",
    "        "
   ]
  },
  {
   "cell_type": "code",
   "execution_count": null,
   "metadata": {
    "collapsed": false,
    "scrolled": true
   },
   "outputs": [],
   "source": [
    "#ODOMETRY \n",
    "if FLAG_other == True:\n",
    "    ODOMcsvarray = []\n",
    "    with open(bagfolder + bagfile_other[:-4] + \"/_slash_odom.csv\",'rb') as csvfile:\n",
    "        reader = csv.reader(csvfile)\n",
    "        for row in reader:\n",
    "            ODOMcsvarray.append(row)\n",
    "    ODOMcolumnnames = ODOMcsvarray.pop(0)\n",
    "    ODOMdataex = ODOMcsvarray[0]\n",
    "    odx= []\n",
    "    ody= []\n",
    "    odz= []\n",
    "    for row in ODOMcsvarray:\n",
    "        odx.append(row[11])\n",
    "        ody.append(row[12])\n",
    "        odz.append(row[13])\n",
    "    \n",
    "    print ODOMcolumnnames\n",
    "    print \"\\n\"\n",
    "    print ODOMdataex"
   ]
  },
  {
   "cell_type": "code",
   "execution_count": null,
   "metadata": {
    "collapsed": true,
    "scrolled": true
   },
   "outputs": [],
   "source": [
    "#ODOMETRY - GPS\n",
    "\n",
    "#DISABLED\n",
    "#if FLAG_other == True:\n",
    "if False:\n",
    "    ODOMGPScsvarray = []\n",
    "    with open(bagfolder + bagfile_other[:-4] + \"/_slash_odometry_slash_gps.csv\",'rb') as csvfile:\n",
    "        reader = csv.reader(csvfile)\n",
    "        for row in reader:\n",
    "            ODOMGPScsvarray.append(row)\n",
    "    ODOMGPScolumnnames = ODOMGPScsvarray.pop(0)\n",
    "    ODOMGPSdataex = ODOMGPScsvarray[50]\n",
    "    odgx= []\n",
    "    odgy= []\n",
    "    odgz= []\n",
    "    for row in ODOMGPScsvarray:\n",
    "        odgx.append(row[11])\n",
    "        odgy.append(row[12])\n",
    "        odgz.append(row[13])\n",
    "    \n",
    "    print ODOMGPScolumnnames\n",
    "    print \"\\n\"\n",
    "    print ODOMGPSdataex\n",
    "\n",
    "\n",
    "    \n",
    "    \n",
    "    "
   ]
  },
  {
   "cell_type": "code",
   "execution_count": null,
   "metadata": {
    "collapsed": false,
    "scrolled": true
   },
   "outputs": [],
   "source": [
    "#VO\n",
    "if FLAG_other == True:\n",
    "    VOcsvarray = []\n",
    "    with open(bagfolder + bagfile_other[:-4] + \"/_slash_vo.csv\",'rb') as csvfile:\n",
    "        reader = csv.reader(csvfile)\n",
    "        for row in reader:\n",
    "            VOcsvarray.append(row)\n",
    "    VOcolumnnames = VOcsvarray.pop(0)\n",
    "    VOdataex = VOcsvarray[50]\n",
    "    VOx= []\n",
    "    VOy= []\n",
    "    for row in VOcsvarray:\n",
    "        TrueVOx = (float(row[11]) - 320191.284048)\n",
    "        TrueVOy = (float(row[12]) - 4727391.526)\n",
    "        VOx.append(TrueVOx)\n",
    "        VOy.append(TrueVOy)\n",
    "\n",
    "    \n",
    "    print VOcolumnnames\n",
    "    print \"\\n\"\n",
    "    print VOdataex\n",
    "    print \"\\n\"\n",
    "    print VOx[1]\n",
    "    print VOy[1]"
   ]
  },
  {
   "cell_type": "code",
   "execution_count": null,
   "metadata": {
    "collapsed": true,
    "scrolled": true
   },
   "outputs": [],
   "source": [
    "#Heading\n",
    "#DISABLED\n",
    "#if FLAG_other == True:\n",
    "if False:\n",
    "    Hcsvarray = []\n",
    "    with open(bagfolder + bagfile_other[:-4] + \"/_slash_novatel_slash_heading.csv\",'rb') as csvfile:\n",
    "        reader = csv.reader(csvfile)\n",
    "        for row in reader:\n",
    "            Hcsvarray.append(row)\n",
    "    Hcolumnnames = Hcsvarray.pop(0)\n",
    "    Hcsvarray.pop(0)\n",
    "    Hcsvarray.pop(0)\n",
    "    Hcsvarray.pop(0)\n",
    "    Hdataex = Hcsvarray[0]\n",
    "    Hz= []\n",
    "    Hw= []\n",
    "    for row in Hcsvarray:\n",
    "        TrueHz = (float(row[16]))\n",
    "        TrueHw = (float(row[17]))\n",
    "        Hz.append(TrueHz)\n",
    "        Hw.append(TrueHw)\n",
    "\n",
    "    \n",
    "    print Hcolumnnames\n",
    "    print \"\\n\"\n",
    "    print Hdataex\n",
    "    print \"\\n\"\n",
    "\n",
    "    print Hz[1]\n",
    "    print Hw[1]"
   ]
  },
  {
   "cell_type": "code",
   "execution_count": null,
   "metadata": {
    "collapsed": true,
    "scrolled": true
   },
   "outputs": [],
   "source": [
    "#GPS AND TF 2D GRAPHING FOR LOCATION\n",
    "#DISABLED\n",
    "#if FLAG_other == True:\n",
    "if False:\n",
    "    plt.plot(tx,ty, 'ro')\n",
    "    plt.show()\n",
    "    plt.plot(lat,lon, 'g^')\n",
    "    plt.show()"
   ]
  },
  {
   "cell_type": "code",
   "execution_count": null,
   "metadata": {
    "collapsed": true,
    "scrolled": true
   },
   "outputs": [],
   "source": [
    "#HEADING\n",
    "\n",
    "#if FLAG_other == True:\n",
    "    #plt.plot(Hz,Hw,'yv')\n",
    "    #plt.show()"
   ]
  },
  {
   "cell_type": "code",
   "execution_count": null,
   "metadata": {
    "collapsed": false,
    "scrolled": true
   },
   "outputs": [],
   "source": [
    "#GPS AND ODOMGPS GRAPHING FOR LOCATION\n",
    "if FLAG_other == True:\n",
    "    plt.plot(TeastingList,TnorthingList, 'ro')\n",
    "    plt.plot(odx,ody, 'g^')\n",
    "    plt.plot(VOx,VOy,'b^')\n",
    "    plt.show()\n"
   ]
  },
  {
   "cell_type": "code",
   "execution_count": null,
   "metadata": {
    "collapsed": true,
    "scrolled": true
   },
   "outputs": [],
   "source": [
    "#WHITE LINE 3D GRAPHING\n",
    "#DISABLED\n",
    "#if FLAG_other == True:\n",
    "if False:\n",
    "    fig = plt.figure()\n",
    "    ax = fig.add_subplot(111, projection='3d')\n",
    "    ax.scatter(lineslist_x, lineslist_y, lineslist_z, zdir='z', s=20, c='b')"
   ]
  },
  {
   "cell_type": "code",
   "execution_count": null,
   "metadata": {
    "collapsed": true,
    "scrolled": true
   },
   "outputs": [],
   "source": [
    "#RED POINT 3D GRAPHING\n",
    "#DISABLED\n",
    "#if FLAG_other == True:\n",
    "if False:\n",
    "    fig = plt.figure()\n",
    "    ax = fig.add_subplot(111, projection='3d')\n",
    "    ax.scatter(redlist_x, redlist_y, redlist_z, zdir='z', s=20, c='b')"
   ]
  },
  {
   "cell_type": "code",
   "execution_count": null,
   "metadata": {
    "collapsed": true,
    "scrolled": true
   },
   "outputs": [],
   "source": [
    "#BLUE POINT 3D GRAPHING\n",
    "#DISABLED\n",
    "#if FLAG_other == True:\n",
    "if False:\n",
    "    fig = plt.figure()\n",
    "    ax = fig.add_subplot(111, projection='3d')\n",
    "    ax.scatter(bluelist_x, bluelist_y, bluelist_z, zdir='z', s=20, c='b')"
   ]
  }
 ],
 "metadata": {
  "kernelspec": {
   "display_name": "Python 2",
   "language": "python",
   "name": "python2"
  },
  "language_info": {
   "codemirror_mode": {
    "name": "ipython",
    "version": 2
   },
   "file_extension": ".py",
   "mimetype": "text/x-python",
   "name": "python",
   "nbconvert_exporter": "python",
   "pygments_lexer": "ipython2",
   "version": "2.7.6"
  }
 },
 "nbformat": 4,
 "nbformat_minor": 0
}
