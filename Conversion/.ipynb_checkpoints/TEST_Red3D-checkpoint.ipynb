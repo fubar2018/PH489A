{
 "cells": [
  {
   "cell_type": "code",
   "execution_count": 1,
   "metadata": {
    "collapsed": false
   },
   "outputs": [],
   "source": [
    "import matplotlib\n",
    "matplotlib.use('Agg')\n",
    "\n",
    "bagfile = \"red3d_2016-05-25-10-58-55.bag\""
   ]
  },
  {
   "cell_type": "code",
   "execution_count": 2,
   "metadata": {
    "collapsed": false
   },
   "outputs": [
    {
     "name": "stdout",
     "output_type": "stream",
     "text": [
      "reading only 1 bagfile: red3d_2016-05-25-10-58-55.bag\n",
      "reading file 1 of  1: red3d_2016-05-25-10-58-55.bag\n",
      "Done reading all 1 bag files.\n"
     ]
    }
   ],
   "source": [
    "%run bag2csv.py $bagfile"
   ]
  },
  {
   "cell_type": "code",
   "execution_count": 3,
   "metadata": {
    "collapsed": false,
    "scrolled": false
   },
   "outputs": [
    {
     "ename": "ValueError",
     "evalue": "Some errors were detected !\n    Line #157 (got 574 columns instead of 31)\n    Line #159 (got 1566 columns instead of 31)\n    Line #160 (got 10590 columns instead of 31)\n    Line #161 (got 20190 columns instead of 31)\n    Line #162 (got 26782 columns instead of 31)\n    Line #163 (got 21310 columns instead of 31)\n    Line #164 (got 5118 columns instead of 31)\n    Line #178 (got 574 columns instead of 31)\n    Line #179 (got 862 columns instead of 31)\n    Line #180 (got 990 columns instead of 31)\n    Line #181 (got 3966 columns instead of 31)\n    Line #182 (got 4638 columns instead of 31)\n    Line #183 (got 9598 columns instead of 31)\n    Line #184 (got 15678 columns instead of 31)\n    Line #185 (got 862 columns instead of 31)\n    Line #186 (got 45886 columns instead of 31)\n    Line #187 (got 51006 columns instead of 31)\n    Line #188 (got 6462 columns instead of 31)",
     "output_type": "error",
     "traceback": [
      "\u001b[1;31m---------------------------------------------------------------------------\u001b[0m",
      "\u001b[1;31mValueError\u001b[0m                                Traceback (most recent call last)",
      "\u001b[1;32m<ipython-input-3-4c36acddac6f>\u001b[0m in \u001b[0;36m<module>\u001b[1;34m()\u001b[0m\n\u001b[0;32m      7\u001b[0m \u001b[1;33m\u001b[0m\u001b[0m\n\u001b[0;32m      8\u001b[0m rosbagTimestamp,header,seq,stamp,secs,nsecs,frame_id,height,width,fields,name1,offset1,datatype1,count1,name2,offset2,datatype2,count2,name3,offset3,datatype3,count3,name4,offset4,datatype4,count4,is_bigendian,point_step,row_step,data,is_dense = np.genfromtxt(bagfile[:-4] + \"/_slash_vision3D_slash_red.csv\", delimiter=',', skip_header=1,\n\u001b[1;32m----> 9\u001b[1;33m                      skip_footer=0,unpack=True)[:31]\n\u001b[0m",
      "\u001b[1;32m/usr/lib/python2.7/dist-packages/numpy/lib/npyio.pyc\u001b[0m in \u001b[0;36mgenfromtxt\u001b[1;34m(fname, dtype, comments, delimiter, skiprows, skip_header, skip_footer, converters, missing, missing_values, filling_values, usecols, names, excludelist, deletechars, replace_space, autostrip, case_sensitive, defaultfmt, unpack, usemask, loose, invalid_raise)\u001b[0m\n\u001b[0;32m   1665\u001b[0m             \u001b[1;31m# Raise an exception ?\u001b[0m\u001b[1;33m\u001b[0m\u001b[1;33m\u001b[0m\u001b[0m\n\u001b[0;32m   1666\u001b[0m             \u001b[1;32mif\u001b[0m \u001b[0minvalid_raise\u001b[0m\u001b[1;33m:\u001b[0m\u001b[1;33m\u001b[0m\u001b[0m\n\u001b[1;32m-> 1667\u001b[1;33m                 \u001b[1;32mraise\u001b[0m \u001b[0mValueError\u001b[0m\u001b[1;33m(\u001b[0m\u001b[0merrmsg\u001b[0m\u001b[1;33m)\u001b[0m\u001b[1;33m\u001b[0m\u001b[0m\n\u001b[0m\u001b[0;32m   1668\u001b[0m             \u001b[1;31m# Issue a warning ?\u001b[0m\u001b[1;33m\u001b[0m\u001b[1;33m\u001b[0m\u001b[0m\n\u001b[0;32m   1669\u001b[0m             \u001b[1;32melse\u001b[0m\u001b[1;33m:\u001b[0m\u001b[1;33m\u001b[0m\u001b[0m\n",
      "\u001b[1;31mValueError\u001b[0m: Some errors were detected !\n    Line #157 (got 574 columns instead of 31)\n    Line #159 (got 1566 columns instead of 31)\n    Line #160 (got 10590 columns instead of 31)\n    Line #161 (got 20190 columns instead of 31)\n    Line #162 (got 26782 columns instead of 31)\n    Line #163 (got 21310 columns instead of 31)\n    Line #164 (got 5118 columns instead of 31)\n    Line #178 (got 574 columns instead of 31)\n    Line #179 (got 862 columns instead of 31)\n    Line #180 (got 990 columns instead of 31)\n    Line #181 (got 3966 columns instead of 31)\n    Line #182 (got 4638 columns instead of 31)\n    Line #183 (got 9598 columns instead of 31)\n    Line #184 (got 15678 columns instead of 31)\n    Line #185 (got 862 columns instead of 31)\n    Line #186 (got 45886 columns instead of 31)\n    Line #187 (got 51006 columns instead of 31)\n    Line #188 (got 6462 columns instead of 31)"
     ]
    }
   ],
   "source": [
    "%matplotlib inline\n",
    "import matplotlib.pyplot as plt\n",
    "import matplotlib.pylab as pylab\n",
    "pylab.rcParams['figure.figsize'] = 15, 8  # that's default image size for this interactive session\n",
    "import numpy as np\n",
    "from datetime import datetime\n",
    "\n",
    "rosbagTimestamp,header,seq,stamp,secs,nsecs,frame_id,height,width,fields,name1,offset1,datatype1,count1,name2,offset2,datatype2,count2,name3,offset3,datatype3,count3,name4,offset4,datatype4,count4,is_bigendian,point_step,row_step,data,is_dense = np.genfromtxt(bagfile[:-4] + \"/_slash_vision3D_slash_red.csv\", delimiter=',', skip_header=1,\n",
    "                     skip_footer=0,unpack=True)[:31]"
   ]
  },
  {
   "cell_type": "code",
   "execution_count": null,
   "metadata": {
    "collapsed": false
   },
   "outputs": [],
   "source": [
    "print rosbagTimestamp"
   ]
  }
 ],
 "metadata": {
  "kernelspec": {
   "display_name": "Python 2",
   "language": "python",
   "name": "python2"
  },
  "language_info": {
   "codemirror_mode": {
    "name": "ipython",
    "version": 2
   },
   "file_extension": ".py",
   "mimetype": "text/x-python",
   "name": "python",
   "nbconvert_exporter": "python",
   "pygments_lexer": "ipython2",
   "version": "2.7.6"
  }
 },
 "nbformat": 4,
 "nbformat_minor": 0
}
