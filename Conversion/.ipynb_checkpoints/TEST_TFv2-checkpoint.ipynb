{
 "cells": [
  {
   "cell_type": "code",
   "execution_count": 5,
   "metadata": {
    "collapsed": false
   },
   "outputs": [
    {
     "name": "stderr",
     "output_type": "stream",
     "text": [
      "/usr/local/lib/python2.7/dist-packages/matplotlib/__init__.py:1350: UserWarning:  This call to matplotlib.use() has no effect\n",
      "because the backend has already been chosen;\n",
      "matplotlib.use() must be called *before* pylab, matplotlib.pyplot,\n",
      "or matplotlib.backends is imported for the first time.\n",
      "\n",
      "  warnings.warn(_use_error_msg)\n"
     ]
    }
   ],
   "source": [
    "import matplotlib\n",
    "matplotlib.use('Agg')\n",
    "\n",
    "bagfile = \"other_2016-05-26-10-34-51.bag\"\n",
    "bagfile2 = \"gps_fix_2016-05-26-10-34-51.bag\""
   ]
  },
  {
   "cell_type": "code",
   "execution_count": null,
   "metadata": {
    "collapsed": true
   },
   "outputs": [],
   "source": [
    "x = False\n",
    "print str(x)"
   ]
  },
  {
   "cell_type": "code",
   "execution_count": 6,
   "metadata": {
    "collapsed": false,
    "scrolled": false
   },
   "outputs": [
    {
     "name": "stdout",
     "output_type": "stream",
     "text": [
      "reading only 1 bagfile: other_2016-05-26-10-34-51.bag\n",
      "reading file 1 of  1: other_2016-05-26-10-34-51.bag\n",
      "Done reading all 1 bag files.\n",
      "reading only 1 bagfile: gps_fix_2016-05-26-10-34-51.bag\n",
      "reading file 1 of  1: gps_fix_2016-05-26-10-34-51.bag\n",
      "Done reading all 1 bag files.\n"
     ]
    }
   ],
   "source": [
    "%run bag2csv.py $bagfile\n",
    "%run bag2csv.py $bagfile2"
   ]
  },
  {
   "cell_type": "code",
   "execution_count": 10,
   "metadata": {
    "collapsed": false,
    "scrolled": false
   },
   "outputs": [],
   "source": [
    "%matplotlib inline\n",
    "import matplotlib.pyplot as plt\n",
    "import matplotlib.pylab as pylab\n",
    "pylab.rcParams['figure.figsize'] = 15, 8  # that's default image size for this interactive session\n",
    "import numpy as np\n",
    "from datetime import datetime\n",
    "import csv\n",
    "import sys\n",
    "csv.field_size_limit(sys.maxsize)\n",
    "\n",
    "TFcsvarray = []\n",
    "GPScsvarray = []\n",
    "with open(bagfile[:-4] + \"/_slash_tf.csv\",'rb') as csvfile:\n",
    "    reader = csv.reader(csvfile)\n",
    "    for row in reader:\n",
    "        TFcsvarray.append(row)\n",
    "TFcolumnnames = TFcsvarray.pop(0)\n",
    "TFdataex = TFcsvarray[0]\n",
    "\n",
    "with open(bagfile2[:-4] + \"/_slash_gps_slash_fix.csv\",'rb') as csvfile:\n",
    "    reader = csv.reader(csvfile)\n",
    "    for row in reader:\n",
    "        GPScsvarray.append(row)\n",
    "GPScolumnnames = GPScsvarray.pop(0)\n",
    "GPSdataex = GPScsvarray[0]\n",
    "\n",
    "tx= []\n",
    "ty= []\n",
    "tz= []\n",
    "lat= []\n",
    "lon= []\n",
    "alt= []\n",
    "\n",
    "for row in TFcsvarray:\n",
    "    tx.append(row[11])\n",
    "    ty.append(row[12])\n",
    "    tz.append(row[13])\n",
    "    \n",
    "for row in GPScsvarray:\n",
    "    lat.append(row[10])\n",
    "    lon.append(row[11])\n",
    "    alt.append(row[12])\n",
    "\n"
   ]
  },
  {
   "cell_type": "code",
   "execution_count": 16,
   "metadata": {
    "collapsed": false,
    "scrolled": false
   },
   "outputs": [
    {
     "name": "stdout",
     "output_type": "stream",
     "text": [
      "['rosbagTimestamp', 'transforms', '-', 'header', 'seq', 'stamp', 'secs', 'nsecs', 'frame_id', 'child_frame_id', 'transform', 'translation', 'x', 'y', 'z', 'rotation', 'x', 'y', 'z', 'w']\n",
      "\n",
      "\n",
      "['1464273292109697674', '', '', '0', '', '1464273291', '967146158', 'odom', 'base_footprint', '', '', '0.0', '0.0', '0.0', '', '0.0', '0.0', '7.00055151799e-05', '0.99999999755']\n",
      "\n",
      "\n",
      "\n",
      "\n",
      "\n",
      "\n",
      "['rosbagTimestamp', 'header', 'seq', 'stamp', 'secs', 'nsecs', 'frame_id', 'status', 'status', 'service', 'latitude', 'longitude', 'altitude', 'position_covariance', 'position_covariance_type']\n",
      "\n",
      "\n",
      "['1464273292128405749', '', '5', '', '1464273292', '128037929', 'gps_frame', '', '0', '0', '41.3905439968', '-73.9531391029', '-31.4305', '[0.01, 0.0, 0.0, 0.0, 0.01, 0.0, 0.0, 0.0, 999.0]', '2']\n"
     ]
    },
    {
     "data": {
      "image/png": "[encoded data removed]",
      "text/plain": [
       "<matplotlib.figure.Figure at 0x7fc40c864650>"
      ]
     },
     "metadata": {},
     "output_type": "display_data"
    },
    {
     "data": {
      "image/png": "[encoded data removed]",
      "text/plain": [
       "<matplotlib.figure.Figure at 0x7fc40c7b4e10>"
      ]
     },
     "metadata": {},
     "output_type": "display_data"
    }
   ],
   "source": [
    "print TFcolumnnames\n",
    "print \"\\n\"\n",
    "print TFdataex\n",
    "print \"\\n\"\n",
    "print \"\\n\"\n",
    "print \"\\n\"\n",
    "print GPScolumnnames\n",
    "print \"\\n\"\n",
    "print GPSdataex\n",
    "\n",
    "plt.plot(tx,ty, 'ro')\n",
    "plt.show()\n",
    "plt.plot(tx,ty, 'go')\n",
    "plt.show()"
   ]
  }
 ],
 "metadata": {
  "kernelspec": {
   "display_name": "Python 2",
   "language": "python",
   "name": "python2"
  },
  "language_info": {
   "codemirror_mode": {
    "name": "ipython",
    "version": 2
   },
   "file_extension": ".py",
   "mimetype": "text/x-python",
   "name": "python",
   "nbconvert_exporter": "python",
   "pygments_lexer": "ipython2",
   "version": "2.7.6"
  }
 },
 "nbformat": 4,
 "nbformat_minor": 0
}
